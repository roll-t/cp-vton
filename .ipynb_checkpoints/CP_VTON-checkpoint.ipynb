{
 "cells": [
  {
   "cell_type": "code",
   "execution_count": null,
   "id": "8402d006",
   "metadata": {},
   "outputs": [],
   "source": [
    "import matplotlib.pyplot as plt\n",
    "import cv2\n",
    "import numpy as np\n",
    "from cp_dataset import CPDataset, CPDataLoader\n",
    "import argparse\n",
    "import random\n",
    "import torch\n",
    "# Tạo đối tượng tùy chọn để tải dữ liệu\n",
    "opt = argparse.Namespace(\n",
    "    dataroot=\"data\",  # dường dẫn đến thư mục\n",
    "    datamode=\"train\",  # Chế độ dữ liệu (train, test, ...)\n",
    "    stage=\"GMM\",  # GMM hoặc TOM\n",
    "    data_list=\"train_pairs.txt\",  # Tên tệp chứa danh sách cặp dữ liệu\n",
    "    fine_width=192,\n",
    "    fine_height=256,\n",
    "    radius=5,\n",
    "    grid_size=5,\n",
    "    workers=1,  # Số tiểu trình được sử dụng để nạp dữ liệu\n",
    "    batch_size=4,  # Thêm thuộc tính batch_size vào đây\n",
    "    shuffle=True\n",
    ")\n",
    "\n",
    "# Tạo đối tượng dataset và data loader\n",
    "dataset = CPDataset(opt)\n",
    "data_loader = CPDataLoader(opt, dataset)\n",
    "\n",
    "#random item\n",
    "def random_integer():\n",
    "    return random.randint(1, 1000)\n",
    "\n",
    "# Sử dụng hàm để lấy một số nguyên ngẫu nhiên từ 1 đến 100\n",
    "randomItem = random_integer()\n",
    "\n",
    "# Lấy một mẫu từ data loader\n",
    "sample = dataset.__getitem__(randomItem)  # Lấy mẫu đầu tiên, bạn có thể thay đổi chỉ số để lấy mẫu khác\n",
    "\n",
    "# Hiển thị mẫu huấn luyện cụ thể\n",
    "plt.figure(figsize=(12, 6))\n",
    "\n",
    "# Hiển thị hình ảnh người\n",
    "plt.subplot(1, 3, 1)\n",
    "plt.imshow(sample['image'].permute(1, 2, 0))  # permute để chuyển đổi chiều của tensor\n",
    "plt.title(\"Person Image\")\n",
    "\n",
    "\n",
    "cloth_tensor = sample['cloth']  # Lấy tensor của hình ảnh đồ án\n",
    "gray_cloth_mask = torch.mean(cloth_tensor, dim=1, keepdim=True)\n",
    "# Chuyển đổi tensor sang NumPy array\n",
    "cloth_array = cloth_tensor.permute(1, 2, 0).numpy()\n",
    "\n",
    "# Chuyển đổi NumPy array thành hình ảnh OpenCV\n",
    "cloth_mask = (cloth_array * 255).astype(np.uint8)  # Điều chỉnh giá trị để chuyển sang 8-bit\n",
    "\n",
    "# Chuyển sang không gian màu RGB\n",
    "hsv = cv2.cvtColor(cloth_mask, cv2.COLOR_BGR2RGB)\n",
    "\n",
    "# Tạo mask cho các pixel vượt qua ngưỡng và chuyển chúng thành màu đen\n",
    "threshold = 250  # Ngưỡng màu trắng thuần, có thể điều chỉnh\n",
    "mask = cv2.inRange(hsv, (threshold, threshold, threshold), (255, 255, 255))\n",
    "cloth_mask[mask > threshold] = 0  # Chuyển các pixel vượt qua ngưỡng thành màu đen\n",
    "cloth_mask[mask <= threshold] = 255  # Chuyển các pixel không vượt qua ngưỡng thành màu trắng\n",
    "\n",
    "# Hiển thị hình ảnh đồ án và ảnh đen trắng\n",
    "plt.figure(figsize=(12, 6))\n",
    "plt.subplot(1, 3, 1)\n",
    "plt.imshow(cloth_array)\n",
    "plt.title(\"Cloth Image\")\n",
    "\n",
    "\n",
    "#hien thi cloth mark\n",
    "plt.subplot(1, 3, 2)\n",
    "plt.imshow(cloth_mask, cmap='gray')  # Hiển thị ảnh đen trắng\n",
    "plt.title(\"Cloth Mask\")\n",
    "\n",
    "\n",
    "plt.tight_layout()\n",
    "plt.show()\n"
   ]
  },
  {
   "cell_type": "code",
   "execution_count": 1,
   "id": "27630b6a",
   "metadata": {
    "scrolled": false
   },
   "outputs": [
    {
     "data": {
      "text/plain": [
       "Reusing TensorBoard on port 6063 (pid 23748), started 10:00:16 ago. (Use '!kill 23748' to kill it.)"
      ]
     },
     "metadata": {},
     "output_type": "display_data"
    },
    {
     "data": {
      "text/html": [
       "\n",
       "      <iframe id=\"tensorboard-frame-e2210b6f568a6045\" width=\"100%\" height=\"800\" frameborder=\"0\">\n",
       "      </iframe>\n",
       "      <script>\n",
       "        (function() {\n",
       "          const frame = document.getElementById(\"tensorboard-frame-e2210b6f568a6045\");\n",
       "          const url = new URL(\"/\", window.location);\n",
       "          const port = 6063;\n",
       "          if (port) {\n",
       "            url.port = port;\n",
       "          }\n",
       "          frame.src = url;\n",
       "        })();\n",
       "      </script>\n",
       "    "
      ],
      "text/plain": [
       "<IPython.core.display.HTML object>"
      ]
     },
     "metadata": {},
     "output_type": "display_data"
    }
   ],
   "source": [
    "#chạy tensorboard\n",
    "%load_ext tensorboard\n",
    "%tensorboard --logdir tensorboard/GMM  --port 6063 "
   ]
  },
  {
   "cell_type": "code",
   "execution_count": null,
   "id": "99d1ba79",
   "metadata": {},
   "outputs": [],
   "source": [
    "\n"
   ]
  }
 ],
 "metadata": {
  "kernelspec": {
   "display_name": "Python 3 (ipykernel)",
   "language": "python",
   "name": "python3"
  },
  "language_info": {
   "codemirror_mode": {
    "name": "ipython",
    "version": 3
   },
   "file_extension": ".py",
   "mimetype": "text/x-python",
   "name": "python",
   "nbconvert_exporter": "python",
   "pygments_lexer": "ipython3",
   "version": "3.11.4"
  }
 },
 "nbformat": 4,
 "nbformat_minor": 5
}
